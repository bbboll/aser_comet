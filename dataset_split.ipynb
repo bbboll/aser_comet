{
 "cells": [
  {
   "cell_type": "code",
   "execution_count": 2,
   "metadata": {},
   "outputs": [],
   "source": [
    "import pickle\n",
    "import run\n",
    "from ac.utils.utils import abs_path\n",
    "import os.path\n",
    "import numpy as np"
   ]
  },
  {
   "cell_type": "code",
   "execution_count": 4,
   "metadata": {},
   "outputs": [],
   "source": [
    "# load dataset\n",
    "dataset_path = abs_path(\"data/dataset.pickle\")\n",
    "if not os.path.isfile(dataset_path):\n",
    "    print(\"Please generate dataset file first by running dataset_pickle\")\n",
    "with open(dataset_path, 'rb') as f:\n",
    "    dataset = pickle.load(f)"
   ]
  },
  {
   "cell_type": "code",
   "execution_count": 10,
   "metadata": {},
   "outputs": [],
   "source": [
    "# compute dataset split\n",
    "num_total = len(dataset)\n",
    "num_test = int(num_total * 0.1)\n",
    "num_dev = int(num_total * 0.1)\n",
    "num_train = num_total - (num_dev+num_test)\n",
    "ind = np.arange(num_total)\n",
    "np.random.shuffle(ind)\n",
    "ind_test = ind[:num_test]\n",
    "ind_dev = ind[num_test:(num_test+num_dev)]\n",
    "ind_train = ind[(num_test+num_dev):]\n",
    "\n",
    "# perform dataset split\n",
    "dataset_test = [dataset[i] for i in ind_test]\n",
    "dataset_dev = [dataset[i] for i in ind_dev]\n",
    "dataset_train = [dataset[i] for i in ind_train]\n",
    "\n",
    "# save dataset split components\n",
    "with open(abs_path(\"data/test.pickle\"), 'wb') as f:\n",
    "    pickle.dump(dataset_test, f)\n",
    "with open(abs_path(\"data/dev.pickle\"), 'wb') as f:\n",
    "    pickle.dump(dataset_dev, f)\n",
    "with open(abs_path(\"data/train.pickle\"), 'wb') as f:\n",
    "    pickle.dump(dataset_train, f)"
   ]
  },
  {
   "cell_type": "code",
   "execution_count": null,
   "metadata": {},
   "outputs": [],
   "source": []
  }
 ],
 "metadata": {
  "kernelspec": {
   "display_name": "Python 3",
   "language": "python",
   "name": "python3"
  },
  "language_info": {
   "codemirror_mode": {
    "name": "ipython",
    "version": 3
   },
   "file_extension": ".py",
   "mimetype": "text/x-python",
   "name": "python",
   "nbconvert_exporter": "python",
   "pygments_lexer": "ipython3",
   "version": "3.7.3"
  }
 },
 "nbformat": 4,
 "nbformat_minor": 2
}
