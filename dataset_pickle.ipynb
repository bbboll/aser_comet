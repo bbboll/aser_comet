{
 "cells": [
  {
   "cell_type": "code",
   "execution_count": 5,
   "metadata": {},
   "outputs": [],
   "source": [
    "import run\n",
    "import numpy as np\n",
    "from ac.utils.utils import abs_path\n",
    "import ac.data.db as db\n",
    "import pickle\n",
    "import os.path\n",
    "from tqdm import tqdm"
   ]
  },
  {
   "cell_type": "code",
   "execution_count": 2,
   "metadata": {},
   "outputs": [
    {
     "name": "stdout",
     "output_type": "stream",
     "text": [
      "Relation ind shape (10256017, 3)\n",
      "Eventuality ids shape (8146286, 1)\n"
     ]
    }
   ],
   "source": [
    "# load relation indices\n",
    "path_relations_ind = abs_path(\"data/relations_ind.npy\")\n",
    "relation_ind = np.load(path_relations_ind)\n",
    "print(\"Relation ind shape\", relation_ind.shape)\n",
    "\n",
    "# load id array\n",
    "path_ids = abs_path(\"data/ids.npy\")\n",
    "ev_ids = np.load(path_ids)\n",
    "print(\"Eventuality ids shape\", ev_ids.shape)"
   ]
  },
  {
   "cell_type": "code",
   "execution_count": 3,
   "metadata": {},
   "outputs": [],
   "source": [
    "path_aserdb = abs_path(\"data/aser_v0.1.0.db\")\n",
    "conn = db.open_db_connection(path_aserdb)\n",
    "c = conn.cursor()"
   ]
  },
  {
   "cell_type": "code",
   "execution_count": 4,
   "metadata": {},
   "outputs": [],
   "source": [
    "query_cache = {}\n",
    "def get_eventuality_text_cached(c, id_str):\n",
    "    if id_str in query_cache:\n",
    "        return query_cache[id_str]\n",
    "    text = db.get_eventuality_text(c, id_str)\n",
    "    query_cache[id_str] = text\n",
    "    return text"
   ]
  },
  {
   "cell_type": "code",
   "execution_count": 6,
   "metadata": {},
   "outputs": [],
   "source": [
    "# populate cache, requires about 8GB ram\n",
    "load_words_query = \"SELECT _id, words FROM Eventualities;\"\n",
    "for (id_str, words) in c.execute(load_words_query):\n",
    "    query_cache[id_str] = words"
   ]
  },
  {
   "cell_type": "code",
   "execution_count": 8,
   "metadata": {},
   "outputs": [
    {
     "name": "stderr",
     "output_type": "stream",
     "text": [
      "100%|██████████| 10256017/10256017 [00:35<00:00, 290516.92it/s]\n"
     ]
    }
   ],
   "source": [
    "dataset = []\n",
    "dirpath_datachunks = abs_path(\"data/chunks/\")\n",
    "chunk_id = 0\n",
    "\n",
    "# save dataset to pickle, requires about (another!) 7GB of ram\n",
    "for i in tqdm(range(relation_ind.shape[0])):\n",
    "    id_str1 = ev_ids[relation_ind[i,0]][0]\n",
    "    id_str2 = ev_ids[relation_ind[i,1]][0]\n",
    "    relation_type = relation_ind[i,2]\n",
    "    text1 = get_eventuality_text_cached(c, id_str1)\n",
    "    text2 = get_eventuality_text_cached(c, id_str2)\n",
    "    dataset.append((text1, relation_type, text2))\n",
    "\n",
    "chunkfile = os.path.join(dirpath_datachunks, \"dataset.pickle\")\n",
    "with open(chunkfile, 'wb') as f:\n",
    "    pickle.dump(dataset, f)\n",
    "dataset = []"
   ]
  },
  {
   "cell_type": "code",
   "execution_count": null,
   "metadata": {},
   "outputs": [],
   "source": []
  }
 ],
 "metadata": {
  "kernelspec": {
   "display_name": "Python 3",
   "language": "python",
   "name": "python3"
  },
  "language_info": {
   "codemirror_mode": {
    "name": "ipython",
    "version": 3
   },
   "file_extension": ".py",
   "mimetype": "text/x-python",
   "name": "python",
   "nbconvert_exporter": "python",
   "pygments_lexer": "ipython3",
   "version": "3.7.3"
  }
 },
 "nbformat": 4,
 "nbformat_minor": 2
}
