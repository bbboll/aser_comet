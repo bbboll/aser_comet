{
 "cells": [
  {
   "cell_type": "code",
   "execution_count": 1,
   "metadata": {},
   "outputs": [],
   "source": [
    "import numpy as np\n",
    "import matplotlib.pyplot as plt\n",
    "import torch\n",
    "import pickle"
   ]
  },
  {
   "cell_type": "code",
   "execution_count": 2,
   "metadata": {},
   "outputs": [],
   "source": [
    "# load masks from pickle and convert to np array\n",
    "mask_path = \"data/encoded_dev_mask.pickle\"\n",
    "masks = torch.load(mask_path)\n",
    "masks = np.array([list(t) for t in masks])"
   ]
  },
  {
   "cell_type": "code",
   "execution_count": 21,
   "metadata": {},
   "outputs": [
    {
     "name": "stdout",
     "output_type": "stream",
     "text": [
      "First eventuality\n",
      "545 instances above 18.72\n",
      "Second eventuality\n",
      "491 instances above 20.44\n"
     ]
    }
   ],
   "source": [
    "histogram1, edges1 = np.histogram(masks[:,0], bins=50)\n",
    "histogram2, edges2 = np.histogram(masks[:,1], bins=150)\n",
    "\n",
    "# count examples above bin index\n",
    "bin_ind1 = 6\n",
    "print(\"First eventuality\")\n",
    "print(np.sum(histogram1[bin_ind1:]), \"instances above\", edges1[bin_ind1])\n",
    "heavy_ev1_ind = np.argwhere(masks[:,0] > edges1[bin_ind1]).flatten()\n",
    "bin_ind2 = 8\n",
    "print(\"Second eventuality\")\n",
    "print(np.sum(histogram2[bin_ind2:]), \"instances above\", edges2[bin_ind2])\n",
    "heavy_ev2_ind = np.argwhere(masks[:,1] > edges2[bin_ind2]).flatten()"
   ]
  },
  {
   "cell_type": "markdown",
   "metadata": {},
   "source": [
    "Examine the unusually long instances."
   ]
  },
  {
   "cell_type": "code",
   "execution_count": 5,
   "metadata": {},
   "outputs": [],
   "source": [
    "with open(\"data/dev.pickle\", \"rb\") as f:\n",
    "    txt_data = pickle.load(f)"
   ]
  },
  {
   "cell_type": "code",
   "execution_count": 28,
   "metadata": {},
   "outputs": [
    {
     "name": "stdout",
     "output_type": "stream",
     "text": [
      "('tu ^ tu ^ tu ^ tu ^ tu ^ tu ^ tu ^ tu ^ tu ^ tu ^ tu ^ tu ^ tu ^ tu bwa ^ bwa ^ bwa ^ bwa ^ bwa bwaa ^ bwaa ^ bwaa ^ bwoa ^ bwaa bwa ^ bwa ^ bwa ^ bwabwabwabwa tu ^ tu ^ ti ^ tu ^ du bwaa ^', 14, 'da ^ tu ^ dum ^ tu ^ dum ^ tum bwaa ^ ti ^ du ^ dim ^ du ^ dimbom')\n",
      "('https://np.reddit.com/r/catteambrotherhood/comments/6zassm/lions take down those dirty bird cardinal', 14, 'we love mr. bortles')\n",
      "('you will not even notice a sata ssd from a nvme ssd anyway', 14, 'it be gaming')\n",
      "('deswegen bin ich per nlich da immer seeehr vorsichtig und wenn ich', 14, 'etwas anspreche dann um einige netter wie von dir oben beschrieben')\n",
      "('https://www.vox.com/2018/4/13/17229018/undocumented immigrant pay tax since', 14, 'that seem to be a common misconception')\n",
      "('the nearest railway station be kannapuram on mangalore palakkad line', 14, 'train be available to all part')\n",
      "('fscx100 fscy100 earth defence force cha5c4db 24 ho alphahff ur', 14, 'it be warm in here')\n",
      "('annihilation https://www.reddit.com/r/uvtrade/comments/871vnl/offer see', 14, 'list request make offer')\n",
      "(\"ce merveilles de l'industrie due l'id un beau jour dans le cerveau d'un homme\", 14, 'prendre bon droit les air grande ville')\n",
      "('the pianist garrick ohlsson will be soloist rachmaninoff piano concerto no. 3', 14, 'otto werner mueller will conduct')\n"
     ]
    }
   ],
   "source": [
    "for i in heavy_ev1_ind[:10]:# I also examined the full output\n",
    "    print(txt_data[i])"
   ]
  },
  {
   "cell_type": "code",
   "execution_count": 29,
   "metadata": {},
   "outputs": [
    {
     "name": "stdout",
     "output_type": "stream",
     "text": [
      "('tu ^ tu ^ tu ^ tu ^ tu ^ tu ^ tu ^ tu ^ tu ^ tu ^ tu ^ tu ^ tu ^ tu bwa ^ bwa ^ bwa ^ bwa ^ bwa bwaa ^ bwaa ^ bwaa ^ bwoa ^ bwaa bwa ^ bwa ^ bwa ^ bwabwabwabwa tu ^ tu ^ ti ^ tu ^ du bwaa ^', 14, 'da ^ tu ^ dum ^ tu ^ dum ^ tum bwaa ^ ti ^ du ^ dim ^ du ^ dimbom')\n",
      "('unfortunately you post have be remove', 14, 'it have be post here https://www.reddit.com/r/hmmm/comments/8plrrr/hmmm/ by another user')\n",
      "('they be actually free', 14, 'https://www.visitcalgary.com/events/aurora illumination series present free tash sultanaconcert')\n",
      "('ich hab ja nicht unbedingt be dagegen', 14, 'grund tzliche entscheidung gegen ladem glichkeiten im vergleich zu skiliften ein bisschen inkonsequent zu sein')\n",
      "('deswegen bin ich per nlich da immer seeehr vorsichtig und wenn ich', 14, 'etwas anspreche dann um einige netter wie von dir oben beschrieben')\n",
      "('unfortunately you post have be remove', 3, 'it have be post here https://www.reddit.com/r/hmmm/comments/8o0v2u/hmmm/ by another user')\n",
      "('unfortunately you post have be remove', 14, 'it have be post here https://www.reddit.com/r/hmmm/comments/8u1u8k/hmmm/ by another user')\n",
      "('das foto wird von der afd nahen initiative kandel ist berall verbreitet', 4, 'der zentralrat der juden teile die aufrichtigen und ehrlichen trauerbekundungen')\n",
      "('unfortunately you post have be remove', 3, 'it have be post here https://www.reddit.com/r/hmmm/comments/8t1bsm/hmmm/ by another user')\n",
      "('ich habe die quellen nachzuweisen', 14, 'aus denen die ursachen meine schicksal zusammengeflossen sind')\n"
     ]
    }
   ],
   "source": [
    "for i in heavy_ev2_ind[:10]: # I also examined the full output\n",
    "    print(txt_data[i])"
   ]
  },
  {
   "cell_type": "markdown",
   "metadata": {},
   "source": [
    "All of these are clearly very low-quality examples. We will remove them from the dataset which makes our tensors significantly smaller and the data cleaner."
   ]
  }
 ],
 "metadata": {
  "kernelspec": {
   "display_name": "Python 3",
   "language": "python",
   "name": "python3"
  },
  "language_info": {
   "codemirror_mode": {
    "name": "ipython",
    "version": 3
   },
   "file_extension": ".py",
   "mimetype": "text/x-python",
   "name": "python",
   "nbconvert_exporter": "python",
   "pygments_lexer": "ipython3",
   "version": "3.7.3"
  }
 },
 "nbformat": 4,
 "nbformat_minor": 2
}
