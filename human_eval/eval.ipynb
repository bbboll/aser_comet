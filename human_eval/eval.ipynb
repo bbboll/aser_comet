{
 "cells": [
  {
   "cell_type": "code",
   "execution_count": 1,
   "metadata": {},
   "outputs": [],
   "source": [
    "import csv\n",
    "import numpy as np"
   ]
  },
  {
   "cell_type": "code",
   "execution_count": 2,
   "metadata": {},
   "outputs": [],
   "source": [
    "def read_csv(filename):\n",
    "    out = []\n",
    "    with open(filename, \"r\") as f:\n",
    "        csv_reader = csv.reader(f, delimiter=',', quotechar='\"')\n",
    "        for row in csv_reader:\n",
    "            out.append(list(row))\n",
    "    return out"
   ]
  },
  {
   "cell_type": "code",
   "execution_count": 12,
   "metadata": {},
   "outputs": [
    {
     "name": "stdout",
     "output_type": "stream",
     "text": [
      "112 100\n"
     ]
    }
   ],
   "source": [
    "reason_dat = read_csv(\"reason.csv\")[1:]\n",
    "result_dat = read_csv(\"result.csv\")[1:]\n",
    "print(len(reason_dat), len(result_dat))"
   ]
  },
  {
   "cell_type": "code",
   "execution_count": 4,
   "metadata": {},
   "outputs": [],
   "source": [
    "def get_precise_questions(dat):\n",
    "    return list(filter(lambda x: x[7] != \"-1\", dat))"
   ]
  },
  {
   "cell_type": "code",
   "execution_count": 5,
   "metadata": {},
   "outputs": [],
   "source": [
    "def count_entries(dat, i, entry):\n",
    "    return len(list(filter(lambda x: x[i] == entry, dat)))"
   ]
  },
  {
   "cell_type": "code",
   "execution_count": 6,
   "metadata": {},
   "outputs": [],
   "source": [
    "def count_correct_data(dat):\n",
    "    correct_baseline = count_entries(dat, 4, \"1\")\n",
    "    correct_full = count_entries(dat, 5, \"1\")\n",
    "    correct_reduced = count_entries(dat, 6, \"1\")\n",
    "    return (correct_baseline, correct_full, correct_reduced)"
   ]
  },
  {
   "cell_type": "code",
   "execution_count": 10,
   "metadata": {},
   "outputs": [],
   "source": [
    "def eval_data(dat):\n",
    "    precise = get_precise_questions(dat)\n",
    "    print(\"precise\", count_correct_data(precise))"
   ]
  },
  {
   "cell_type": "code",
   "execution_count": 11,
   "metadata": {},
   "outputs": [
    {
     "name": "stdout",
     "output_type": "stream",
     "text": [
      "precise (55, 56, 55)\n",
      "precise (56, 62, 58)\n"
     ]
    }
   ],
   "source": [
    "eval_data(reason_dat)\n",
    "eval_data(result_dat)"
   ]
  },
  {
   "cell_type": "code",
   "execution_count": 17,
   "metadata": {},
   "outputs": [
    {
     "data": {
      "text/plain": [
       "10"
      ]
     },
     "execution_count": 17,
     "metadata": {},
     "output_type": "execute_result"
    }
   ],
   "source": [
    "# number of equal predictions by both models\n",
    "len(list(filter(lambda x: x[2] == x[3], get_precise_questions(reason_dat))))"
   ]
  },
  {
   "cell_type": "code",
   "execution_count": 18,
   "metadata": {},
   "outputs": [
    {
     "data": {
      "text/plain": [
       "22"
      ]
     },
     "execution_count": 18,
     "metadata": {},
     "output_type": "execute_result"
    }
   ],
   "source": [
    "len(list(filter(lambda x: x[2] == x[3], get_precise_questions(result_dat))))"
   ]
  },
  {
   "cell_type": "code",
   "execution_count": 21,
   "metadata": {},
   "outputs": [
    {
     "name": "stdout",
     "output_type": "stream",
     "text": [
      "3 1\n"
     ]
    }
   ],
   "source": [
    "# number of predictions which match the input\n",
    "match_reason_1 = len(list(filter(lambda x: x[0] == x[2], get_precise_questions(reason_dat))))\n",
    "match_reason_2 = len(list(filter(lambda x: x[0] == x[3], get_precise_questions(reason_dat))))\n",
    "print(match_reason_1, match_reason_2)"
   ]
  },
  {
   "cell_type": "code",
   "execution_count": 20,
   "metadata": {},
   "outputs": [
    {
     "name": "stdout",
     "output_type": "stream",
     "text": [
      "1 2\n"
     ]
    }
   ],
   "source": [
    "match_result_1 = len(list(filter(lambda x: x[0] == x[2], get_precise_questions(result_dat))))\n",
    "match_result_2 = len(list(filter(lambda x: x[0] == x[3], get_precise_questions(result_dat))))\n",
    "print(match_result_1, match_result_2)"
   ]
  },
  {
   "cell_type": "code",
   "execution_count": null,
   "metadata": {},
   "outputs": [],
   "source": []
  }
 ],
 "metadata": {
  "kernelspec": {
   "display_name": "Python 3",
   "language": "python",
   "name": "python3"
  },
  "language_info": {
   "codemirror_mode": {
    "name": "ipython",
    "version": 3
   },
   "file_extension": ".py",
   "mimetype": "text/x-python",
   "name": "python",
   "nbconvert_exporter": "python",
   "pygments_lexer": "ipython3",
   "version": "3.7.3"
  }
 },
 "nbformat": 4,
 "nbformat_minor": 2
}
